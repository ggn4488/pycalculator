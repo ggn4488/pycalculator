{
 "cells": [
  {
   "cell_type": "markdown",
   "id": "912324e3-4d3f-407a-99ba-d53a1d7573d9",
   "metadata": {},
   "source": [
    "# Calculator"
   ]
  },
  {
   "cell_type": "markdown",
   "id": "f5888a92-7c09-4860-819f-0f42a7c3533c",
   "metadata": {},
   "source": [
    "A simple calculator in Python."
   ]
  },
  {
   "cell_type": "code",
   "execution_count": null,
   "id": "68e4dbfb-5ca0-4731-8a7c-09679bcc43f9",
   "metadata": {},
   "outputs": [
    {
     "name": "stdout",
     "output_type": "stream",
     "text": [
      "==========================\n",
      "Welcome to the calculator\n",
      "==========================\n",
      "\n",
      "Choose by the number the operation you want to be done.\n",
      "\n",
      "1 - Summation\n",
      "2 - Subtraction\n",
      "3 - Multiplication\n",
      "4 - Division\n",
      "5 - Exponentiation\n"
     ]
    },
    {
     "name": "stdin",
     "output_type": "stream",
     "text": [
      " 1\n"
     ]
    },
    {
     "name": "stdout",
     "output_type": "stream",
     "text": [
      ">>> You chose Summation.\n",
      "\n",
      "Which will be the first number?\n"
     ]
    },
    {
     "name": "stdin",
     "output_type": "stream",
     "text": [
      " 2\n"
     ]
    },
    {
     "name": "stdout",
     "output_type": "stream",
     "text": [
      "\n",
      "Which will be the second number?\n"
     ]
    },
    {
     "name": "stdin",
     "output_type": "stream",
     "text": [
      " 3\n"
     ]
    },
    {
     "name": "stdout",
     "output_type": "stream",
     "text": [
      "\n",
      "2.0 + 3.0 = 5.0\n",
      "\n",
      "Do you want to do another operation? 1 - Yes, 0 - No\n"
     ]
    },
    {
     "name": "stdin",
     "output_type": "stream",
     "text": [
      " 1\n"
     ]
    },
    {
     "name": "stdout",
     "output_type": "stream",
     "text": [
      "==========================\n",
      "Welcome to the calculator\n",
      "==========================\n",
      "\n",
      "Choose by the number the operation you want to be done.\n",
      "\n",
      "1 - Summation\n",
      "2 - Subtraction\n",
      "3 - Multiplication\n",
      "4 - Division\n",
      "5 - Exponentiation\n"
     ]
    }
   ],
   "source": [
    "# Calculator\n",
    "# A simple calculator in Python\n",
    "# author: G. Guilhermino Neto\n",
    "# last update: 2025.03.03\n",
    "\n",
    "import os\n",
    "\n",
    "# Opens the calculator\n",
    "def open_calculator():\n",
    "    print(\"==========================\")\n",
    "    print(\"Welcome to the calculator\")\n",
    "    print(\"==========================\\n\")\n",
    "    print(\"Choose by the number the operation you want to be done.\\n\")\n",
    "    print(\"1 - Summation\")\n",
    "    print(\"2 - Subtraction\")\n",
    "    print(\"3 - Multiplication\")\n",
    "    print(\"4 - Division\")\n",
    "    print(\"5 - Exponentiation\")\n",
    "\n",
    "# Lets the user choose the operation\n",
    "def choose_operation():\n",
    "    operation = int(input())\n",
    "    operations = ['Summation', 'Subtraction', 'Multiplication', 'Division', 'Exponentiation']\n",
    "    print(\">>> You chose {}.\".format(operations[operation-1]))\n",
    "    return(operation)\n",
    "\n",
    "# Lets the user choose two numbers\n",
    "def choose_numbers():\n",
    "    print(\"\\nWhich will be the first number?\")\n",
    "    num_1 = float(input())\n",
    "    print(\"\\nWhich will be the second number?\")\n",
    "    num_2 = float(input())\n",
    "    return([num_1, num_2])\n",
    "\n",
    "# Does the math\n",
    "def calculations(operation, numbers):\n",
    "\n",
    "    num_1 = numbers[0]\n",
    "    num_2 = numbers[1]\n",
    "    \n",
    "    if operation == 1:\n",
    "        print(\"\\n{} + {} = {}\".format(num_1, num_2, num_1 + num_2))\n",
    "    \n",
    "    elif operation == 2:\n",
    "        print(\"\\n{} - {} = {}\".format(num_1, num_2, num_1 - num_2))\n",
    "    \n",
    "    elif operation == 3:\n",
    "        print(\"\\n{} * {} = {}\".format(num_1, num_2, num_1 * num_2))\n",
    "    \n",
    "    elif operation == 4:\n",
    "        print(\"\\n{} / {} = {}\".format(num_1, num_2, num_1 / num_2))\n",
    "    \n",
    "    else:\n",
    "        print(\"\\n{} ** {} = {}\".format(num_1, num_2, num_1 ** num_2))\n",
    "\n",
    "# Runs the calculator by using the above functions\n",
    "open_calculator()\n",
    "operation = choose_operation()\n",
    "numbers = choose_numbers()\n",
    "calculations(operation, numbers)\n",
    "\n",
    "# Lets user choose if he/she wants to do another operation and stops if not\n",
    "print(\"\\nDo you want to do another operation? 1 - Yes, 0 - No\")\n",
    "yn = int(input())\n",
    "\n",
    "while yn == 1:\n",
    "    os.system('cls')\n",
    "    open_calculator()\n",
    "    operation = choose_operation()\n",
    "    numbers = choose_numbers()\n",
    "    calculations(operation, numbers)\n",
    "    print(\"\\nDo you want to do another operation? 1 - Yes, 0 - No\\n\")\n",
    "    yn = int(input())"
   ]
  }
 ],
 "metadata": {
  "kernelspec": {
   "display_name": "Python 3 (ipykernel)",
   "language": "python",
   "name": "python3"
  },
  "language_info": {
   "codemirror_mode": {
    "name": "ipython",
    "version": 3
   },
   "file_extension": ".py",
   "mimetype": "text/x-python",
   "name": "python",
   "nbconvert_exporter": "python",
   "pygments_lexer": "ipython3",
   "version": "3.13.1"
  }
 },
 "nbformat": 4,
 "nbformat_minor": 5
}
